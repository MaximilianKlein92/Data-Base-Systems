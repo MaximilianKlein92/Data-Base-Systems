{
 "cells": [
  {
   "cell_type": "markdown",
   "id": "02a18697",
   "metadata": {},
   "source": [
    "## SQL vs NoSQL\n",
    "\n",
    "### SQL (Relational Databases)\n",
    "**Pros**\n",
    "- Structured schema (tables, relations)\n",
    "- Strong consistency (ACID transactions)\n",
    "- Mature ecosystem, well-known\n",
    "- Powerful query language (SQL)\n",
    "\n",
    "**Cons**\n",
    "- Rigid schema (less flexible)\n",
    "- Can struggle with huge, unstructured data\n",
    "- Scaling is harder (vertical scaling)\n",
    "\n",
    "### NoSQL (Non-Relational Databases)\n",
    "**Pros**\n",
    "- Flexible schema (documents, key-value, graph, etc.)\n",
    "- Scales horizontally (good for big data, distributed systems)\n",
    "- Handles unstructured/semi-structured data well\n",
    "- High performance for specific workloads\n",
    "\n",
    "**Cons**\n",
    "- Weaker consistency (often eventual consistency)\n",
    "- Fewer standards, fragmented ecosystem\n",
    "- Less suited for complex queries/joins\n",
    "- Younger technology (less mature tools)\n"
   ]
  },
  {
   "cell_type": "markdown",
   "id": "72cd068e",
   "metadata": {},
   "source": [
    "\n",
    "# Modelling Data\n",
    "\n",
    "- Needs to think about all the entities thad are needed to learn from beforehand\n",
    "\n",
    "## ERD - Entiti Relationship Diagramm\n",
    "\n",
    "- Spezifically strucktured Model for SQL\n",
    "- Better in early developmet of App\n",
    "- becaue every code written will rely on thad data strucktur\n",
    "- Changing something here will reqire many changes down the line\n",
    "- SO start from a high Level design - gettiing feedback \n",
    "- THAN you can Build\n",
    "\n",
    "1. **Conceptual**\n",
    "Mapping the main entities, relationships and attributes\n",
    "\n",
    "2. **Logical**\n",
    "Decide actual databae schema, and associate tables and colums\n",
    "\n",
    "3.   **Physical**\n",
    "Deciding how each table should be stored in a computer (which DBMS)\n",
    "\n",
    "- Many online tools to use\n",
    "\n",
    "\n"
   ]
  },
  {
   "cell_type": "markdown",
   "id": "dbe65aa1",
   "metadata": {},
   "source": [
    "# SQL\n",
    "\n",
    "- also DQL (Domain sezific languarge) only used in Data Bases (like HTML only in brwosers)\n",
    "\n",
    "- Here a small sample of performable actions:\n",
    "![SQL Cheetsheet](..//Media/SQL.PNG)\n",
    "\n",
    "\n",
    "### **CRUD**\n",
    "\n",
    "**C**reate\n",
    "**R**ead\n",
    "**U**pdate\n",
    "**D**elite\n",
    "\n"
   ]
  }
 ],
 "metadata": {
  "language_info": {
   "name": "python"
  }
 },
 "nbformat": 4,
 "nbformat_minor": 5
}
