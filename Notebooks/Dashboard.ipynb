{
 "cells": [
  {
   "cell_type": "markdown",
   "id": "dbcac5f7",
   "metadata": {},
   "source": [
    "# Dashbard Planning\n",
    "\n",
    "Well planed Dashboard is a powerful tool for actionable insigts, fecilitation informated decition making\n",
    "\n",
    "- without planning can become clutterd and confusing\n",
    "\n",
    "1. Gather Requirements\n",
    "2. Understanding the purpose and the audience\n",
    "3. Identifining Key Performance Indicators (KPIs)\n",
    "4. Design the Layout\n",
    "5. Choosing the Right Tools\n",
    "6. Creating a Dashboard plan and Document\n",
    "\n",
    "#### 1. Gather Requirements\n",
    "- Engage with stakeholders \n",
    "- interviews \n",
    "- ask open ended questions to understand needs\n",
    "- empathy and active listening\n",
    "- Document Requirements\n",
    "- Flowchats   \n",
    "- Prioretise Requiements (Must-have and Nice-to-have)\n",
    "\n",
    "#### 2. Understanding the purpose and the audience\n",
    "\n",
    "- what question should it answer\n",
    "(current, present, underperformance)\n",
    "- different users have diffrent needs/understanding/details reqirements\n",
    "- which form should the dashboard take (Browser, App, mobile friendly?)\n",
    "\n",
    "#### 3. Identifining Key Performance Indicators (KPIs)\n",
    " ![KPIs](../Media/KPIs.PNG)\n",
    "\n",
    " #### 4. Design \n",
    "\n",
    " - information arrangement\n",
    " - avoid accesive use of colors, fonts\n",
    " - most critical at top or center\n",
    " - Create Wireframes and Mockups (Viusal Preprint)\n",
    " - Planning interactivity and Usability\n",
    " - User Exerinece (UX) Consideration\n",
    " - Consitent navigation and familia paths\n",
    " \n",
    "#### 5.Tools\n",
    "\n",
    "- Power BI (Windows integration)\n",
    "- tabelau\n",
    "- Data Studio ( Google integration - Web)\n",
    "- QuickView (Explore Data in interactive manner)\n",
    "- SAP BI\n",
    "- Oracle\n",
    "\n",
    "##### Points to think about:\n",
    "- cost\n",
    "- scalability\n",
    "- compatability \n",
    "- ability to connect \n",
    "- easy of use and learing curve\n",
    "\n",
    "#### 6. Plan Document\n",
    "\n",
    "- Requrements\n",
    "- KPIs\n",
    "- Mockups\n",
    "- Tools selction rational \n"
   ]
  },
  {
   "cell_type": "markdown",
   "id": "98056a8a",
   "metadata": {},
   "source": [
    " "
   ]
  },
  {
   "cell_type": "markdown",
   "id": "38bea7e8",
   "metadata": {},
   "source": [
    "## Streamlit\n",
    "\n",
    "- Develop customer apps dor data anayltics \n",
    "\n",
    "others are: \n",
    "- plotly|Dash\n",
    "- voila\n",
    "- Panel\n",
    "\n",
    "#### Link between reasearch and deployment\n",
    "- Frame ML buissness case \n",
    "- after Completed Data Analysis \n",
    "- Build Data App and Deploy\n",
    "- use it to Show your your Peers/Boss \n",
    "\n",
    "##### For Production Ready use:\n",
    "- Jango\n",
    "- Flask\n",
    "- APIs"
   ]
  },
  {
   "cell_type": "code",
   "execution_count": null,
   "id": "07d71eb7",
   "metadata": {
    "vscode": {
     "languageId": "plaintext"
    }
   },
   "outputs": [],
   "source": []
  }
 ],
 "metadata": {
  "language_info": {
   "name": "python"
  }
 },
 "nbformat": 4,
 "nbformat_minor": 5
}
